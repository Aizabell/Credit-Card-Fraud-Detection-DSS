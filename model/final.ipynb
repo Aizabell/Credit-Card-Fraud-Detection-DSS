{
 "cells": [
  {
   "cell_type": "code",
   "execution_count": 30,
   "id": "6a8b5570",
   "metadata": {},
   "outputs": [],
   "source": [
    "import pandas as pd\n",
    "import numpy as np\n",
    "import matplotlib.pyplot as plt\n",
    "import os\n",
    "import joblib\n",
    "\n",
    "from sklearn.model_selection import train_test_split\n",
    "from sklearn.preprocessing import LabelEncoder, StandardScaler\n",
    "from sklearn.metrics import (\n",
    "    classification_report, confusion_matrix, roc_auc_score, ConfusionMatrixDisplay,\n",
    "    precision_recall_curve, f1_score\n",
    ")\n",
    "from xgboost import XGBClassifier\n"
   ]
  },
  {
   "cell_type": "code",
   "execution_count": 31,
   "id": "d9001887",
   "metadata": {},
   "outputs": [],
   "source": [
    "train_df = pd.read_csv('../data/fraudTrain.csv')\n",
    "test_df = pd.read_csv('../data/fraudTest.csv')"
   ]
  },
  {
   "cell_type": "code",
   "execution_count": 32,
   "id": "ad58292c",
   "metadata": {},
   "outputs": [],
   "source": [
    "def map_time_of_day(hour):\n",
    "    if 0 <= hour < 5:\n",
    "        return 'Midnight'\n",
    "    elif 5 <= hour < 8:\n",
    "        return 'Early Morning'\n",
    "    elif 8 <= hour < 12:\n",
    "        return 'Morning'\n",
    "    elif 12 <= hour < 14:\n",
    "        return 'Noon'\n",
    "    elif 14 <= hour < 17:\n",
    "        return 'Afternoon'\n",
    "    elif 17 <= hour < 20:\n",
    "        return 'Evening'\n",
    "    else:\n",
    "        return 'Night'\n"
   ]
  },
  {
   "cell_type": "code",
   "execution_count": 33,
   "id": "1ae77a39",
   "metadata": {},
   "outputs": [],
   "source": [
    "def preprocess(df):\n",
    "    df = df.copy()\n",
    "    df['trans_date_trans_time'] = pd.to_datetime(df['trans_date_trans_time'])\n",
    "    df['dob'] = pd.to_datetime(df['dob'])\n",
    "\n",
    "    df['age'] = ((df['trans_date_trans_time'] - df['dob']).dt.days / 365.25).astype(int)\n",
    "    df['hour'] = df['trans_date_trans_time'].dt.hour\n",
    "    df['time_group'] = df['hour'].apply(map_time_of_day)\n",
    "\n",
    "    def haversine(lat1, lon1, lat2, lon2):\n",
    "        R = 6371\n",
    "        lat1, lon1, lat2, lon2 = map(np.radians, [lat1, lon1, lat2, lon2])\n",
    "        dlat = lat2 - lat1\n",
    "        dlon = lon2 - lon1\n",
    "        a = np.sin(dlat/2)**2 + np.cos(lat1)*np.cos(lat2)*np.sin(dlon/2)**2\n",
    "        c = 2 * np.arctan2(np.sqrt(a), np.sqrt(1-a))\n",
    "        return R * c\n",
    "\n",
    "    df['distance_km'] = haversine(df['lat'], df['long'], df['merch_lat'], df['merch_long'])\n",
    "\n",
    "    return df\n"
   ]
  },
  {
   "cell_type": "code",
   "execution_count": 34,
   "id": "70094513",
   "metadata": {},
   "outputs": [],
   "source": [
    "train_df = preprocess(train_df)\n",
    "test_df = preprocess(test_df)\n"
   ]
  },
  {
   "cell_type": "code",
   "execution_count": 35,
   "id": "1c7fcbf5",
   "metadata": {},
   "outputs": [],
   "source": [
    "features = ['merchant', 'amt', 'distance_km', 'category', 'age', 'time_group']\n",
    "TARGET = 'is_fraud'\n",
    "\n",
    "X_train = train_df[features].copy()\n",
    "y_train = train_df[TARGET].copy()\n",
    "X_test = test_df[features].copy()\n",
    "y_test = test_df[TARGET].copy()\n"
   ]
  },
  {
   "cell_type": "code",
   "execution_count": 36,
   "id": "d19fcebc",
   "metadata": {},
   "outputs": [],
   "source": [
    "encoders = {}\n",
    "for col in ['merchant', 'category', 'time_group']:\n",
    "    le = LabelEncoder()\n",
    "    X_train[col] = le.fit_transform(X_train[col])\n",
    "    X_test[col] = le.transform(X_test[col])\n",
    "    encoders[col] = le\n"
   ]
  },
  {
   "cell_type": "code",
   "execution_count": 37,
   "id": "84418880",
   "metadata": {},
   "outputs": [],
   "source": [
    "scaler = StandardScaler()\n",
    "X_train_scaled = scaler.fit_transform(X_train)\n",
    "X_test_scaled = scaler.transform(X_test)\n"
   ]
  },
  {
   "cell_type": "code",
   "execution_count": 38,
   "id": "22d6e8c5",
   "metadata": {},
   "outputs": [],
   "source": [
    "from sklearn import set_config\n",
    "set_config(display='text') "
   ]
  },
  {
   "cell_type": "code",
   "execution_count": 39,
   "id": "1a518a93",
   "metadata": {},
   "outputs": [
    {
     "name": "stderr",
     "output_type": "stream",
     "text": [
      "/Users/harryphoebus/miniconda3/envs/ML/lib/python3.11/site-packages/xgboost/sklearn.py:1395: UserWarning: `use_label_encoder` is deprecated in 1.7.0.\n",
      "  warnings.warn(\"`use_label_encoder` is deprecated in 1.7.0.\")\n"
     ]
    },
    {
     "data": {
      "text/plain": [
       "XGBClassifier(base_score=None, booster=None, callbacks=None,\n",
       "              colsample_bylevel=None, colsample_bynode=None,\n",
       "              colsample_bytree=0.8, early_stopping_rounds=None,\n",
       "              enable_categorical=False, eval_metric='logloss',\n",
       "              feature_types=None, gamma=None, gpu_id=None, grow_policy=None,\n",
       "              importance_type=None, interaction_constraints=None,\n",
       "              learning_rate=0.001, max_bin=None, max_cat_threshold=None,\n",
       "              max_cat_to_onehot=None, max_delta_step=None, max_depth=12,\n",
       "              max_leaves=None, min_child_weight=None, missing=nan,\n",
       "              monotone_constraints=None, n_estimators=1000, n_jobs=-1,\n",
       "              num_parallel_tree=None, predictor=None, random_state=42, ...)"
      ]
     },
     "execution_count": 39,
     "metadata": {},
     "output_type": "execute_result"
    }
   ],
   "source": [
    "xgb_model = XGBClassifier(\n",
    "    n_estimators=1000,\n",
    "    max_depth=12,\n",
    "    learning_rate=0.001,\n",
    "    use_label_encoder=False,\n",
    "    eval_metric='logloss',\n",
    "    subsample=0.8,\n",
    "    colsample_bytree=0.8,\n",
    "    scale_pos_weight=25,\n",
    "    n_jobs=-1,\n",
    "    random_state=42\n",
    ")\n",
    "xgb_model.fit(X_train_scaled, y_train)\n"
   ]
  },
  {
   "cell_type": "code",
   "execution_count": 40,
   "id": "877fa990",
   "metadata": {},
   "outputs": [
    {
     "name": "stdout",
     "output_type": "stream",
     "text": [
      "\n",
      "🔍 Model: XGBoost Model\n",
      "               precision    recall  f1-score   support\n",
      "\n",
      "Not Fraud (0)       1.00      1.00      1.00    553574\n",
      "    Fraud (1)       0.70      0.79      0.74      2145\n",
      "\n",
      "     accuracy                           1.00    555719\n",
      "    macro avg       0.85      0.90      0.87    555719\n",
      " weighted avg       1.00      1.00      1.00    555719\n",
      "\n",
      "AUC-ROC Score: 0.9913\n"
     ]
    },
    {
     "data": {
      "image/png": "[encoded data removed]",
      "text/plain": [
       "<Figure size 640x480 with 2 Axes>"
      ]
     },
     "metadata": {},
     "output_type": "display_data"
    }
   ],
   "source": [
    "def evaluate_model(name, model, X, y):\n",
    "    print(f\"\\n🔍 Model: {name}\")\n",
    "    y_pred = model.predict(X)\n",
    "    y_proba = model.predict_proba(X)[:, 1]\n",
    "    \n",
    "    print(classification_report(y, y_pred, target_names=['Not Fraud (0)', 'Fraud (1)']))\n",
    "    print(f\"AUC-ROC Score: {roc_auc_score(y, y_proba):.4f}\")\n",
    "    \n",
    "    cm = confusion_matrix(y, y_pred)\n",
    "    disp = ConfusionMatrixDisplay(confusion_matrix=cm, display_labels=['Not Fraud', 'Fraud'])\n",
    "    disp.plot(cmap=plt.cm.Blues)\n",
    "    plt.title(f\"{name} - Confusion Matrix\")\n",
    "    plt.show()\n",
    "\n",
    "evaluate_model(\"XGBoost Model\", xgb_model, X_test_scaled, y_test)\n"
   ]
  },
  {
   "cell_type": "code",
   "execution_count": 41,
   "id": "af74c744",
   "metadata": {},
   "outputs": [
    {
     "name": "stdout",
     "output_type": "stream",
     "text": [
      "📌 Best Threshold: 0.579\n",
      "✅ Best F1 Score: 0.762\n"
     ]
    }
   ],
   "source": [
    "y_proba = xgb_model.predict_proba(X_test_scaled)[:, 1]\n",
    "prec, rec, thresholds = precision_recall_curve(y_test, y_proba)\n",
    "f1_scores = 2 * (prec * rec) / (prec + rec)\n",
    "best_idx = np.argmax(f1_scores)\n",
    "\n",
    "print(f\"📌 Best Threshold: {thresholds[best_idx]:.3f}\")\n",
    "print(f\"✅ Best F1 Score: {f1_scores[best_idx]:.3f}\")\n"
   ]
  },
  {
   "cell_type": "code",
   "execution_count": 42,
   "id": "0f6332ba",
   "metadata": {},
   "outputs": [
    {
     "name": "stdout",
     "output_type": "stream",
     "text": [
      "              precision    recall  f1-score   support\n",
      "\n",
      "   Not Fraud       1.00      1.00      1.00    553574\n",
      "       Fraud       0.85      0.65      0.74      2145\n",
      "\n",
      "    accuracy                           1.00    555719\n",
      "   macro avg       0.92      0.83      0.87    555719\n",
      "weighted avg       1.00      1.00      1.00    555719\n",
      "\n"
     ]
    }
   ],
   "source": [
    "y_pred_custom = (y_proba >= 0.625).astype(int)\n",
    "print(classification_report(y_test, y_pred_custom, target_names=[\"Not Fraud\", \"Fraud\"]))\n"
   ]
  },
  {
   "cell_type": "code",
   "execution_count": 43,
   "id": "c828220f",
   "metadata": {},
   "outputs": [
    {
     "name": "stdout",
     "output_type": "stream",
     "text": [
      "✅ Model and preprocessing tools saved successfully.\n"
     ]
    }
   ],
   "source": [
    "os.makedirs(\"../model_saved\", exist_ok=True)\n",
    "joblib.dump(xgb_model, \"../model_saved/xgb_model.joblib\")\n",
    "joblib.dump(scaler, \"../model_saved/scaler.joblib\")\n",
    "joblib.dump(encoders, \"../model_saved/encoders.joblib\")\n",
    "\n",
    "print(\"✅ Model and preprocessing tools saved successfully.\")\n"
   ]
  },
  {
   "cell_type": "code",
   "execution_count": 44,
   "id": "1fd82359",
   "metadata": {},
   "outputs": [
    {
     "name": "stdout",
     "output_type": "stream",
     "text": [
      "🚨 Fraud Probability: 0.2575\n"
     ]
    }
   ],
   "source": [
    "# Load saved model/tools\n",
    "xgb_model = joblib.load(\"../model_saved/xgb_model.joblib\")\n",
    "scaler = joblib.load(\"../model_saved/scaler.joblib\")\n",
    "encoders = joblib.load(\"../model_saved/encoders.joblib\")\n",
    "\n",
    "# New sample input\n",
    "new_data = pd.DataFrame([{\n",
    "    'merchant': 'fraud_Kirlin and Sons',\n",
    "    'amt': 10000.0,\n",
    "    'distance_km': 5,\n",
    "    'category': 'misc_net',\n",
    "    'age': 50,\n",
    "    'time_group': 'Evening'\n",
    "}])\n",
    "\n",
    "# Encode categorical features\n",
    "for col in ['merchant', 'category', 'time_group']:\n",
    "    new_data[col] = encoders[col].transform(new_data[col])\n",
    "\n",
    "# Scale numerical features\n",
    "X_new = scaler.transform(new_data)\n",
    "\n",
    "# Predict fraud probability\n",
    "proba = xgb_model.predict_proba(X_new)[0][1]\n",
    "print(f\"🚨 Fraud Probability: {proba:.4f}\")\n"
   ]
  }
 ],
 "metadata": {
  "kernelspec": {
   "display_name": "ML",
   "language": "python",
   "name": "python3"
  },
  "language_info": {
   "codemirror_mode": {
    "name": "ipython",
    "version": 3
   },
   "file_extension": ".py",
   "mimetype": "text/x-python",
   "name": "python",
   "nbconvert_exporter": "python",
   "pygments_lexer": "ipython3",
   "version": "3.11.11"
  }
 },
 "nbformat": 4,
 "nbformat_minor": 5
}
